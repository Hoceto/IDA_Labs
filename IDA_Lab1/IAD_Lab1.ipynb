{
 "cells": [
  {
   "cell_type": "markdown",
   "metadata": {},
   "source": [
    "<H1> IAD LAB 1 </H1>\n",
    "<h2>Умова:</h2>\n",
    "\n",
    "11. Дано масив  $T = \\{(t_{i}) | t_{i} = (x_{i1}, x_{i2}, ..., x_{im}), i=1, ..., N\\}, x_{ij}\\in R $, де приклад $t_{i}$ характеризується <i>m</i> ознаками. Задано кількість кластерів $2\\leq g \\leq N$. Розрахувати центри кластерів за формулою:\n",
    "$$c_{i}={\\sum_{i=1}^N u_{ki}t_{i} \\over \\sum_{i=1}^N u_{ki}}, k=1,...,g,$$<br>\n",
    "    де $U=\\{(u_{ki})|k=1,...,g,i=1,...,g\\}$ - випадковим чином задана матриця початкового розбиття, $u_{ki}\\in \\{0,1\\}, \\sum_{k=1}^g u_{ki}=1, \\sum_{i=1}^N u_{ki}<N$.<br><br>\n",
    "    Перерахувати матрицю розбиття:<br>\n",
    "    $u_{ki}=1$ якщо $d(t_{i},c_{k}) = min_{l=1,...,g}d(t_{i},c_{l})$,<br>\n",
    "    $u_{ki}=0$ в іншому випадку,<br>\n",
    "    за умови, що $d(t_{i},c_{k})$ - евклідова відстань між векторами.<br>\n",
    "    Виконати декілька ітерацій з уточнення центрів кластерів."
   ]
  },
  {
   "cell_type": "code",
   "execution_count": 30,
   "metadata": {},
   "outputs": [],
   "source": [
    "import numpy as np\n",
    "import matplotlib.pyplot as plt\n",
    "from sklearn.datasets.samples_generator import make_blobs"
   ]
  },
  {
   "cell_type": "code",
   "execution_count": 31,
   "metadata": {},
   "outputs": [],
   "source": [
    "g = 5  #Количество кластеров\n",
    "m = 20 #Количество признаков \n",
    "N = 350 #Количество примеров"
   ]
  },
  {
   "cell_type": "code",
   "execution_count": 32,
   "metadata": {},
   "outputs": [
    {
     "data": {
      "text/plain": [
       "<matplotlib.collections.PathCollection at 0x1bfe47672e8>"
      ]
     },
     "execution_count": 32,
     "metadata": {},
     "output_type": "execute_result"
    },
    {
     "data": {
      "image/png": "[encoded data removed]",
      "text/plain": [
       "<Figure size 432x288 with 1 Axes>"
      ]
     },
     "metadata": {
      "needs_background": "light"
     },
     "output_type": "display_data"
    }
   ],
   "source": [
    "# Размерности кластеров, которые отобразим на графике для проверки качества нахождения центров\n",
    "dim1 = np.random.randint(0, m)\n",
    "dim2 = np.random.randint(0, m)\n",
    "while (dim2 == dim1):\n",
    "    dim2 = np.random.randint(0, m)\n",
    "\n",
    "# Инициация примеров по отдаленным кластерам\n",
    "T, y = make_blobs(n_samples=N, centers=g, n_features=m, random_state=42) \n",
    "\n",
    "# 2D графическое представление расположения кластеров\n",
    "plt.scatter(T[:, dim1], T[:, dim2], s=5)"
   ]
  },
  {
   "cell_type": "code",
   "execution_count": 33,
   "metadata": {
    "scrolled": true
   },
   "outputs": [],
   "source": [
    "#Инициализация начальных матриц\n",
    "u = np.zeros((g, N))\n",
    "c = np.zeros((g, m))\n",
    "\n",
    "for _ in range(N):\n",
    "    u[np.random.randint(0, g),_] = 1\n",
    "\n",
    "for k in range(g):\n",
    "    c[k] = (u[k].dot(T))/sum(u[k])\n",
    "\n",
    "#Итеративное уточнение значений кластеров\n",
    "iter_num = 100\n",
    "for iters in range(iter_num):\n",
    "    mm = []\n",
    "    for i in range(N):\n",
    "        m = np.argmin([np.linalg.norm(T[i] - c[k]) for k in range(g)])\n",
    "        mm.append(m)\n",
    "        for _ in range(g):\n",
    "            u[_, i] = 0\n",
    "        \n",
    "        u[m, i] = 1\n",
    "        for _ in u:\n",
    "            if sum(_) == 0:\n",
    "                _[np.random.randint(0, g)] = 1 # Сглаживание на случай, если начальный спавн центров дает нули после итерации\n",
    "    \n",
    "    for k in range(g):\n",
    "        c[k] = (u[k].dot(T))/sum(u[k])\n",
    "    #print(c)\n",
    "\n",
    "\n",
    "\n",
    "\n",
    "\n"
   ]
  },
  {
   "cell_type": "markdown",
   "metadata": {},
   "source": [
    "# Plot"
   ]
  },
  {
   "cell_type": "code",
   "execution_count": 36,
   "metadata": {},
   "outputs": [
    {
     "data": {
      "text/plain": [
       "<matplotlib.collections.PathCollection at 0x1bfe4877860>"
      ]
     },
     "execution_count": 36,
     "metadata": {},
     "output_type": "execute_result"
    },
    {
     "data": {
      "image/png": "[encoded data removed]",
      "text/plain": [
       "<Figure size 432x288 with 1 Axes>"
      ]
     },
     "metadata": {
      "needs_background": "light"
     },
     "output_type": "display_data"
    }
   ],
   "source": [
    "plt.scatter(T[:, dim1], T[:, dim2], s=5, color = \"black\")\n",
    "plt.scatter(c[:, dim1], c[:, dim2], s=50, color=\"red\")"
   ]
  }
 ],
 "metadata": {
  "kernelspec": {
   "display_name": "Python 3",
   "language": "python",
   "name": "python3"
  },
  "language_info": {
   "codemirror_mode": {
    "name": "ipython",
    "version": 3
   },
   "file_extension": ".py",
   "mimetype": "text/x-python",
   "name": "python",
   "nbconvert_exporter": "python",
   "pygments_lexer": "ipython3",
   "version": "3.6.10"
  }
 },
 "nbformat": 4,
 "nbformat_minor": 4
}
